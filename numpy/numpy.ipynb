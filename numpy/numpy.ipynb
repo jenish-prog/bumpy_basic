{
 "cells": [
  {
   "cell_type": "markdown",
   "id": "7f87c840-3c62-4633-85ec-d8763f1c4fd5",
   "metadata": {},
   "source": [
    "## import numpy"
   ]
  },
  {
   "cell_type": "code",
   "execution_count": 1,
   "id": "dbaf6066-4919-4ee3-9657-3b3b13a53cc9",
   "metadata": {},
   "outputs": [],
   "source": [
    "import numpy as np"
   ]
  },
  {
   "cell_type": "markdown",
   "id": "b49c6a0b-664a-4953-97ac-54af486bce2b",
   "metadata": {},
   "source": [
    "## The basic"
   ]
  },
  {
   "cell_type": "code",
   "execution_count": 96,
   "id": "35e07fab-66c0-4745-b4e5-10088314fe7a",
   "metadata": {},
   "outputs": [
    {
     "name": "stdout",
     "output_type": "stream",
     "text": [
      "[1 2 3]\n"
     ]
    }
   ],
   "source": [
    "#one dimension\n",
    "a = np.array([1,2,3],dtype = np.int32)\n",
    "print(a)"
   ]
  },
  {
   "cell_type": "code",
   "execution_count": 51,
   "id": "03d1f9b2-cef3-44e6-85b6-73d0b3a55aef",
   "metadata": {},
   "outputs": [
    {
     "name": "stdout",
     "output_type": "stream",
     "text": [
      "[[4 5 6]\n",
      " [7 8 9]]\n"
     ]
    }
   ],
   "source": [
    "#Two dimension\n",
    "b = np.array([[4,5,6],[7,8,9]])\n",
    "print(b)"
   ]
  },
  {
   "cell_type": "code",
   "execution_count": 32,
   "id": "b9b605eb-c1e6-4eea-a9c5-ad0b2847715a",
   "metadata": {},
   "outputs": [
    {
     "data": {
      "text/plain": [
       "1"
      ]
     },
     "execution_count": 32,
     "metadata": {},
     "output_type": "execute_result"
    }
   ],
   "source": [
    "#Get dimension (it shows the how many dimension are in the array)\n",
    "a.ndim"
   ]
  },
  {
   "cell_type": "code",
   "execution_count": 38,
   "id": "c2bb9ae5-c8ba-4e8e-bb8c-ebe1fd0e3930",
   "metadata": {},
   "outputs": [
    {
     "data": {
      "text/plain": [
       "(2, 3)"
      ]
     },
     "execution_count": 38,
     "metadata": {},
     "output_type": "execute_result"
    }
   ],
   "source": [
    "#Get shapes (it shows how many row and column are in the array)\n",
    "b.shape"
   ]
  },
  {
   "cell_type": "code",
   "execution_count": 98,
   "id": "48964d9d-c797-487a-8c9d-af40e5005f16",
   "metadata": {},
   "outputs": [
    {
     "data": {
      "text/plain": [
       "dtype('int32')"
      ]
     },
     "execution_count": 98,
     "metadata": {},
     "output_type": "execute_result"
    }
   ],
   "source": [
    "#Get type\n",
    "a.dtype\n",
    "#b.dtype\n"
   ]
  },
  {
   "cell_type": "code",
   "execution_count": 100,
   "id": "31ce36ff-1a49-4dc5-a6a9-59dd272a7b0c",
   "metadata": {},
   "outputs": [
    {
     "data": {
      "text/plain": [
       "4"
      ]
     },
     "execution_count": 100,
     "metadata": {},
     "output_type": "execute_result"
    }
   ],
   "source": [
    "#Get size\n",
    "a.itemsize\n",
    "#b.itemsize"
   ]
  },
  {
   "cell_type": "code",
   "execution_count": 118,
   "id": "81c53b33-d787-439e-aded-b1a478e405a6",
   "metadata": {},
   "outputs": [
    {
     "data": {
      "text/plain": [
       "12"
      ]
     },
     "execution_count": 118,
     "metadata": {},
     "output_type": "execute_result"
    }
   ],
   "source": [
    "#Get total size (it shows the total length of the list)\n",
    "a.size * a.itemsize\n",
    "#b.size * b.itemsize"
   ]
  },
  {
   "cell_type": "markdown",
   "id": "6be5a125-a2a8-4e88-a7d0-654122eff255",
   "metadata": {},
   "source": [
    "## Accessing/Changing specific elements,rows,columns etc"
   ]
  },
  {
   "cell_type": "code",
   "execution_count": 17,
   "id": "85ee61a8-f19e-4291-9c3f-957b4bafcb2b",
   "metadata": {},
   "outputs": [
    {
     "name": "stdout",
     "output_type": "stream",
     "text": [
      "[[ 1  2  3  4  5  6  7]\n",
      " [ 8  9 10 11 12 13 14]]\n"
     ]
    }
   ],
   "source": [
    "c = np.array([[1,2,3,4,5,6,7],[8,9,10,11,12,13,14]])\n",
    "print(c)"
   ]
  },
  {
   "cell_type": "code",
   "execution_count": 21,
   "id": "793a60b5-70be-49a1-a568-ece35356198d",
   "metadata": {},
   "outputs": [
    {
     "data": {
      "text/plain": [
       "10"
      ]
     },
     "execution_count": 21,
     "metadata": {},
     "output_type": "execute_result"
    }
   ],
   "source": [
    "#Get a specific element (row,column)\n",
    "c[1,2]"
   ]
  },
  {
   "cell_type": "code",
   "execution_count": 25,
   "id": "a97daa9c-371f-4abf-b0b2-95819ea3ed91",
   "metadata": {},
   "outputs": [
    {
     "data": {
      "text/plain": [
       "array([1, 2, 3, 4, 5, 6, 7])"
      ]
     },
     "execution_count": 25,
     "metadata": {},
     "output_type": "execute_result"
    }
   ],
   "source": [
    "#Get a specific row\n",
    "c[0,:]"
   ]
  },
  {
   "cell_type": "code",
   "execution_count": 27,
   "id": "19799009-3329-48a3-ab8e-d57c3ce8b8f8",
   "metadata": {},
   "outputs": [
    {
     "data": {
      "text/plain": [
       "array([ 6, 13])"
      ]
     },
     "execution_count": 27,
     "metadata": {},
     "output_type": "execute_result"
    }
   ],
   "source": [
    "#Get specific column\n",
    "c[:,5]"
   ]
  },
  {
   "cell_type": "code",
   "execution_count": 49,
   "id": "476b95a4-3c53-44e3-bdce-4cc2c871f9b3",
   "metadata": {},
   "outputs": [
    {
     "data": {
      "text/plain": [
       "array([ 9, 10, 11, 12])"
      ]
     },
     "execution_count": 49,
     "metadata": {},
     "output_type": "execute_result"
    }
   ],
   "source": [
    "#Getting a little fancy [starting index,ending index,stepsize(how many element want to skip)]\n",
    "c[1,1:5:2]"
   ]
  },
  {
   "cell_type": "code",
   "execution_count": 65,
   "id": "1653e8e2-e3b9-4276-8981-f1d36bcd7490",
   "metadata": {},
   "outputs": [
    {
     "name": "stdout",
     "output_type": "stream",
     "text": [
      "[[ 1  2 15  4  5  6  7]\n",
      " [ 8  9 10 11 12 13 15]]\n",
      "[[ 1  2 10 10 10 10 10]\n",
      " [ 8  9 10 10 10 10 10]]\n"
     ]
    }
   ],
   "source": [
    "#modify the element\n",
    "c[1,6]=15\n",
    "print(c)\n",
    "\n",
    "c[:,2:]=10\n",
    "print(c)"
   ]
  },
  {
   "cell_type": "markdown",
   "id": "355e238e-c779-490d-9595-3ad7efde0a60",
   "metadata": {},
   "source": [
    "#### 3d example"
   ]
  },
  {
   "cell_type": "code",
   "execution_count": 98,
   "id": "d61efc61-5a79-4af3-b6f3-52a848743720",
   "metadata": {},
   "outputs": [
    {
     "name": "stdout",
     "output_type": "stream",
     "text": [
      "[[[1 2]\n",
      "  [3 4]]\n",
      "\n",
      " [[4 5]\n",
      "  [6 7]]]\n"
     ]
    }
   ],
   "source": [
    "d = np.array([[[1,2,],[3,4]],[[4,5],[6,7]]])\n",
    "print(d)"
   ]
  },
  {
   "cell_type": "code",
   "execution_count": 110,
   "id": "252aeb07-d9da-47f9-82f3-610a60c90e0d",
   "metadata": {},
   "outputs": [
    {
     "data": {
      "text/plain": [
       "3"
      ]
     },
     "execution_count": 110,
     "metadata": {},
     "output_type": "execute_result"
    }
   ],
   "source": [
    "#Geting specific element\n",
    "d[0,1,0]\n"
   ]
  },
  {
   "cell_type": "code",
   "execution_count": 112,
   "id": "83352700-2584-49d8-a1c1-da0549acd73b",
   "metadata": {},
   "outputs": [
    {
     "data": {
      "text/plain": [
       "array([[[1, 2],\n",
       "        [9, 9]],\n",
       "\n",
       "       [[4, 5],\n",
       "        [8, 8]]])"
      ]
     },
     "execution_count": 112,
     "metadata": {},
     "output_type": "execute_result"
    }
   ],
   "source": [
    "#modify the element \n",
    "d[:,1,:]=[[9,9],[8,8]]\n",
    "d"
   ]
  },
  {
   "cell_type": "markdown",
   "id": "fddb4448-a976-4238-bebf-a03b72e9edd0",
   "metadata": {},
   "source": [
    "## initilizing different types of arrays"
   ]
  },
  {
   "cell_type": "code",
   "execution_count": 8,
   "id": "09cb951e-11f2-4967-b49e-dda354d0d341",
   "metadata": {},
   "outputs": [
    {
     "data": {
      "text/plain": [
       "array([[0., 0., 0.],\n",
       "       [0., 0., 0.],\n",
       "       [0., 0., 0.],\n",
       "       [0., 0., 0.],\n",
       "       [0., 0., 0.]])"
      ]
     },
     "execution_count": 8,
     "metadata": {},
     "output_type": "execute_result"
    }
   ],
   "source": [
    "# All 0s matrix\n",
    "np.zeros((5,3))"
   ]
  },
  {
   "cell_type": "code",
   "execution_count": 10,
   "id": "39c1868f-aafb-48f1-859b-731fe7d5f279",
   "metadata": {},
   "outputs": [
    {
     "data": {
      "text/plain": [
       "array([[1., 1., 1., 1., 1.],\n",
       "       [1., 1., 1., 1., 1.],\n",
       "       [1., 1., 1., 1., 1.],\n",
       "       [1., 1., 1., 1., 1.],\n",
       "       [1., 1., 1., 1., 1.],\n",
       "       [1., 1., 1., 1., 1.],\n",
       "       [1., 1., 1., 1., 1.],\n",
       "       [1., 1., 1., 1., 1.]])"
      ]
     },
     "execution_count": 10,
     "metadata": {},
     "output_type": "execute_result"
    }
   ],
   "source": [
    "#All in 1s matrix\n",
    "np.ones((8,5))"
   ]
  },
  {
   "cell_type": "code",
   "execution_count": 12,
   "id": "a35806fb-05cc-429f-818c-ac7a2e750ded",
   "metadata": {},
   "outputs": [
    {
     "data": {
      "text/plain": [
       "array([[29, 29],\n",
       "       [29, 29],\n",
       "       [29, 29],\n",
       "       [29, 29]])"
      ]
     },
     "execution_count": 12,
     "metadata": {},
     "output_type": "execute_result"
    }
   ],
   "source": [
    "#Any other numbers\n",
    "np.full((4,2),29)"
   ]
  },
  {
   "cell_type": "code",
   "execution_count": 16,
   "id": "0f0bce9f-bceb-4ecc-9584-fe33d7a89aa5",
   "metadata": {},
   "outputs": [
    {
     "data": {
      "text/plain": [
       "array([[4, 4, 4],\n",
       "       [4, 4, 4]])"
      ]
     },
     "execution_count": 16,
     "metadata": {},
     "output_type": "execute_result"
    }
   ],
   "source": [
    "# anu other numbers (full_like)\n",
    "np.full_like(b,4)"
   ]
  },
  {
   "cell_type": "code",
   "execution_count": 22,
   "id": "a33a14d9-411d-4628-a3de-7e14ff5b83e7",
   "metadata": {},
   "outputs": [
    {
     "data": {
      "text/plain": [
       "array([[0.3318271 , 0.39272654, 0.70538052, 0.20745062],\n",
       "       [0.14883843, 0.65135305, 0.60006259, 0.16612235],\n",
       "       [0.34515333, 0.34905053, 0.45034361, 0.4256183 ],\n",
       "       [0.6050741 , 0.61924591, 0.64783828, 0.77196424],\n",
       "       [0.50870983, 0.48245841, 0.93924551, 0.15853855],\n",
       "       [0.05128106, 0.23664242, 0.07413342, 0.18669048],\n",
       "       [0.09654779, 0.28393989, 0.36444939, 0.86155075],\n",
       "       [0.06614698, 0.55739152, 0.74932513, 0.34695503]])"
      ]
     },
     "execution_count": 22,
     "metadata": {},
     "output_type": "execute_result"
    }
   ],
   "source": [
    "#Random decimal numbers\n",
    "np.random.rand(8,4)"
   ]
  },
  {
   "cell_type": "code",
   "execution_count": 36,
   "id": "86c64536-8153-41c6-801c-2f89365a25cd",
   "metadata": {},
   "outputs": [
    {
     "data": {
      "text/plain": [
       "array([[1, 2, 0],\n",
       "       [6, 3, 6],\n",
       "       [0, 5, 6]])"
      ]
     },
     "execution_count": 36,
     "metadata": {},
     "output_type": "execute_result"
    }
   ],
   "source": [
    "# Random integer values\n",
    "np.random.randint(7,size = (3,3)) #(7 means range of the integer, size means (3,3) row,column)"
   ]
  },
  {
   "cell_type": "code",
   "execution_count": 39,
   "id": "c8cfc05f-8ca2-4041-9cf1-8a215ee05d0c",
   "metadata": {},
   "outputs": [
    {
     "data": {
      "text/plain": [
       "array([[1., 0., 0., 0., 0.],\n",
       "       [0., 1., 0., 0., 0.],\n",
       "       [0., 0., 1., 0., 0.],\n",
       "       [0., 0., 0., 1., 0.],\n",
       "       [0., 0., 0., 0., 1.]])"
      ]
     },
     "execution_count": 39,
     "metadata": {},
     "output_type": "execute_result"
    }
   ],
   "source": [
    "# Identity matrix\n",
    "np.identity(5)"
   ]
  },
  {
   "cell_type": "code",
   "execution_count": 49,
   "id": "225aadfd-9517-4958-807d-84e38eae3c48",
   "metadata": {},
   "outputs": [
    {
     "name": "stdout",
     "output_type": "stream",
     "text": [
      "[[1 2 3]\n",
      " [1 2 3]\n",
      " [1 2 3]]\n"
     ]
    }
   ],
   "source": [
    "arr = np.array([[1,2,3]])\n",
    "rl = np.repeat(arr,3,axis = 0)\n",
    "print(rl)"
   ]
  },
  {
   "cell_type": "code",
   "execution_count": 11,
   "id": "a5514019-4972-4417-9734-fba52f9eadad",
   "metadata": {},
   "outputs": [
    {
     "name": "stdout",
     "output_type": "stream",
     "text": [
      "[[1. 1. 1. 1. 1.]\n",
      " [1. 1. 1. 1. 1.]\n",
      " [1. 1. 1. 1. 1.]\n",
      " [1. 1. 1. 1. 1.]\n",
      " [1. 1. 1. 1. 1.]]\n",
      "[[0. 0. 0.]\n",
      " [0. 9. 0.]\n",
      " [0. 0. 0.]]\n",
      "[[1. 1. 1. 1. 1.]\n",
      " [1. 0. 0. 0. 1.]\n",
      " [1. 0. 9. 0. 1.]\n",
      " [1. 0. 0. 0. 1.]\n",
      " [1. 1. 1. 1. 1.]]\n"
     ]
    }
   ],
   "source": [
    "x = np.ones((5,5))\n",
    "print(output)\n",
    "\n",
    "y = np.zeros((3,3))\n",
    "y[1,1] = 9\n",
    "print(y)\n",
    "\n",
    "x[1:4,1:4] = y\n",
    "print(x)"
   ]
  },
  {
   "cell_type": "markdown",
   "id": "b4f2e9ac-3e3d-4d9e-8a9f-a26e3bf3e07c",
   "metadata": {},
   "source": [
    "## copying the array"
   ]
  },
  {
   "cell_type": "code",
   "execution_count": 41,
   "id": "3ef021ef-9d48-4b43-99a8-6159a4349d00",
   "metadata": {},
   "outputs": [
    {
     "name": "stdout",
     "output_type": "stream",
     "text": [
      "[4 5 6]\n",
      "[100   5   6]\n"
     ]
    }
   ],
   "source": [
    "a = np.array([4,5,6])\n",
    "b = a.copy()\n",
    "b[0] = 100\n",
    "print(a)\n",
    "print(b)"
   ]
  },
  {
   "cell_type": "markdown",
   "id": "aeef2b4f-85fd-4fb5-ba01-79be64090d49",
   "metadata": {},
   "source": [
    "## Mathematics"
   ]
  },
  {
   "cell_type": "code",
   "execution_count": 43,
   "id": "4587304f-6ff2-4068-b6da-af14a78f5712",
   "metadata": {},
   "outputs": [
    {
     "name": "stdout",
     "output_type": "stream",
     "text": [
      "[1 2 3 4 5 6]\n"
     ]
    }
   ],
   "source": [
    "c = np.array([1,2,3,4,5,6])\n",
    "print(c)"
   ]
  },
  {
   "cell_type": "code",
   "execution_count": 53,
   "id": "bd528ef7-9633-46ea-9763-a52cb2bf7909",
   "metadata": {},
   "outputs": [
    {
     "data": {
      "text/plain": [
       "array([ 6,  7,  8,  9, 10, 11])"
      ]
     },
     "execution_count": 53,
     "metadata": {},
     "output_type": "execute_result"
    }
   ],
   "source": [
    "c + 5"
   ]
  },
  {
   "cell_type": "code",
   "execution_count": 55,
   "id": "acd47e2f-061d-4816-a096-00498a69903c",
   "metadata": {},
   "outputs": [
    {
     "data": {
      "text/plain": [
       "array([-5, -4, -3, -2, -1,  0])"
      ]
     },
     "execution_count": 55,
     "metadata": {},
     "output_type": "execute_result"
    }
   ],
   "source": [
    "c - 6"
   ]
  },
  {
   "cell_type": "code",
   "execution_count": 57,
   "id": "a59d28c1-9a3b-4f7a-8771-ea452a26e687",
   "metadata": {},
   "outputs": [
    {
     "data": {
      "text/plain": [
       "array([ 9, 18, 27, 36, 45, 54])"
      ]
     },
     "execution_count": 57,
     "metadata": {},
     "output_type": "execute_result"
    }
   ],
   "source": [
    "c * 9"
   ]
  },
  {
   "cell_type": "code",
   "execution_count": 51,
   "id": "dafab411-cfd4-4ab1-bd4d-7c104733e4ef",
   "metadata": {},
   "outputs": [
    {
     "data": {
      "text/plain": [
       "array([0.25, 0.5 , 0.75, 1.  , 1.25, 1.5 ])"
      ]
     },
     "execution_count": 51,
     "metadata": {},
     "output_type": "execute_result"
    }
   ],
   "source": [
    "c / 4"
   ]
  },
  {
   "cell_type": "code",
   "execution_count": 65,
   "id": "56a61dff-1d44-4698-8624-7252b6f695b8",
   "metadata": {},
   "outputs": [
    {
     "data": {
      "text/plain": [
       "array([ 1.15782128, -3.38051501, -0.29100619])"
      ]
     },
     "execution_count": 65,
     "metadata": {},
     "output_type": "execute_result"
    }
   ],
   "source": [
    "#Take the sin\n",
    "np.sin(a)\n",
    "np.cos(a)\n",
    "np.tan(a)"
   ]
  },
  {
   "cell_type": "code",
   "execution_count": null,
   "id": "95c42b74-f05f-4bc1-b211-58f7a9a966a0",
   "metadata": {},
   "outputs": [],
   "source": []
  }
 ],
 "metadata": {
  "kernelspec": {
   "display_name": "Python [conda env:base] *",
   "language": "python",
   "name": "conda-base-py"
  },
  "language_info": {
   "codemirror_mode": {
    "name": "ipython",
    "version": 3
   },
   "file_extension": ".py",
   "mimetype": "text/x-python",
   "name": "python",
   "nbconvert_exporter": "python",
   "pygments_lexer": "ipython3",
   "version": "3.12.2"
  }
 },
 "nbformat": 4,
 "nbformat_minor": 5
}
